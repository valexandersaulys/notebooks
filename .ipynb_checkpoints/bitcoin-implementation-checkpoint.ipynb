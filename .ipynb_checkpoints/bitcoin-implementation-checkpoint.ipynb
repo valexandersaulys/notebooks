{
 "cells": [
  {
   "cell_type": "markdown",
   "id": "46b5e096",
   "metadata": {},
   "source": [
    "Using the elliptic curve notebook + binary hashing notebook\n",
    "\n",
    "\n",
    "page 19 in the monero doc\n",
    "\n",
    "each txn is a signed (by private key, of the hash?) of:\n",
    "\n",
    "  * public key of signer (e.g. spender/sender)\n",
    "  * public key of receiver\n",
    "  * the amount in question\n",
    "  * previous hash\n",
    "  * => all four will be bitwise concatenated, hashed, and signed (via private key)\n",
    "  \n",
    "  \n",
    "This will get represented by a dataclass\n",
    "\n",
    "Write queries by looking at the total amount for a given Key, returning 0 if the key has never been used before\n",
    "\n",
    "\n",
    "=> Monero Post will build on this by introducing the OTA, use of two-key pairs, use of Pederson Commitments to hide the amounts (section 5.3), and ring signatures (close to how I thought the two-key pairs worked + Pederson Committments, section 5.4)"
   ]
  }
 ],
 "metadata": {
  "kernelspec": {
   "display_name": "Python 3",
   "language": "python",
   "name": "python3"
  },
  "language_info": {
   "codemirror_mode": {
    "name": "ipython",
    "version": 3
   },
   "file_extension": ".py",
   "mimetype": "text/x-python",
   "name": "python",
   "nbconvert_exporter": "python",
   "pygments_lexer": "ipython3",
   "version": "3.8.10"
  }
 },
 "nbformat": 4,
 "nbformat_minor": 5
}
