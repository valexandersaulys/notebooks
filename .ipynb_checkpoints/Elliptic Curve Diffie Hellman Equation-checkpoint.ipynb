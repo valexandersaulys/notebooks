{
 "cells": [
  {
   "cell_type": "markdown",
   "id": "d15a6e44",
   "metadata": {},
   "source": [
    "\n",
    "## Operations\n",
    "\n",
    "\n",
    "### Addition\n",
    "\n",
    "Given two points in a set governed by an elliptic curve with a point at infinity (?)\n",
    "\n",
    "$$\n",
    "E\\ =\\ \\{(x,y) | y^2 = x^3 + ax + b \\} \\cup \\{ O \\}\n",
    "$$\n",
    "\n",
    "We can write $$P + Q$$ such that we have a third point $$-R$$ that can be reflected to gve us $$R$$. \n",
    "\n",
    "This resuts in the following algebra for slope and point location\n",
    "\n",
    "$$ s = \\frac{y_P - y_Q}{x_P - x_Q} $$\n",
    "$$ x_R = s^2 - (x_P + x_Q) $$\n",
    "$$ y_R = s(x_p - x_R) - y_P $$\n",
    "\n",
    "(need a picture?)\n",
    "\n",
    "#### Exception \\#1: Point Doubling\n",
    "\n",
    "$$ P + P = R = 2P $$\n",
    "\n",
    "This becomes a special case algebraically as its basically the tangential point\n",
    "\n",
    "$$ s = \\frac{3x_P^2 + a}{2y_P} $$\n",
    "$$ x_R = s^2 - 2x_P $$\n",
    "$$ y_R = s(x_P - x_R) - y_P $$\n",
    "\n",
    "\n",
    "#### Exception \\#2: Adding Vertical Points\n",
    "\n",
    "What if Q & P share their own x value? Then we have the point at infinity $$O$$\n",
    "\n",
    "Put another way: $$ P + Q = O $$ if $$ x_P = x_Q $$ or $$ x_P = 0 $$\n",
    "\n",
    "\n",
    "\n",
    "### Scalar Multiplication\n",
    "\n",
    "Given a point _P_ within the group defined by the elliptic curve _E_, we can compute a scalar multiplication as a repeated addition: \n",
    "\n",
    "$$ Q = kP $$\n",
    "\n",
    "where _k_ is any real, positive integer. \n",
    "\n",
    "$$ P \\in E $$\n",
    "$$ k \\in \\mathbb{Z} $$\n",
    "$$ Q = kP $$\n",
    "\n",
    "Becomes \n",
    "\n",
    "$$ Q = P + P + ... + P $$ \n",
    "\n",
    "Over k times\n",
    "\n",
    "\n",
    "## One Way Functions\n",
    "\n",
    "What we want is a one way function. This will allow us to create a public key from any private key but prevent a private key from being created from a public key. \n",
    "\n",
    "Finding _k_, our private key, such that $ Q = kP $ is all but impossible with an elliptic curve that is parameterized correctly. "
   ]
  },
  {
   "cell_type": "markdown",
   "id": "ac2f6b40",
   "metadata": {},
   "source": [
    "## The Process\n",
    "\n",
    "First we generate a cyclic group such that \n",
    "\n",
    "$$ G \\in E (\\mathbb{Z} / p \\mathbb{Z} ) $$\n",
    "\n",
    "And the size of this subgroup:\n",
    "\n",
    "$$ ord(G) = n $$\n",
    "\n",
    "Which corresponds to our point at infinity:\n",
    "\n",
    "$$ kG = O $$\n",
    "\n",
    "And a cofactor $h$:\n",
    "\n",
    "$$ h = \\frac{|E(\\mathbb{Z}/p\\mathbb{Z}|}{n} $$ \n",
    "\n",
    "where $h$ is ideally $h=1$.\n",
    "\n",
    "\n",
    "### The Shared Parameters\n",
    "\n",
    "$$ \\{p, a, b, G, n, h \\} $$\n",
    "\n",
    "$p$: field modulo -- typically a very large prime\n",
    "\n",
    "$a,b$: curve parameters for $E$\n",
    "\n",
    "$G$: our generator point\n",
    "\n",
    "$n$: size of the subgroup\n",
    "\n",
    "$h$: cofactor\n",
    "\n",
    "\n",
    "## A Tale of Alice & Bob\n",
    "\n",
    "Alice and Bob agree on these basic parameters seen above. They then exchange public keys. These public keys are then multiple against their private keys and they can have the same encryption cipher (or whatever mechanism they want to use)\n",
    "\n",
    "$$ A = aG $$\n",
    "\n",
    "$$ B = bG $$\n",
    "\n",
    "For Bob: $ Ba = (bG)a = abG $\n",
    "\n",
    "For Alive: $ Aa = (aG)b = abG $\n",
    "\n",
    "Which is identical(!) -- if Eve intercepts this, she can't do much because, although she has $A$, $B$, and $G$, it's impossible to find the private keys as:\n",
    "\n",
    "$$ B = bG $$\n",
    "\n",
    "$$ \\frac{B}{G} = b $$\n",
    "\n",
    "cannot be feasibly computed. "
   ]
  },
  {
   "cell_type": "markdown",
   "id": "089f144d",
   "metadata": {},
   "source": [
    "## Working Example\n",
    "\n",
    "$$ E: y^2 \\equiv X^3 + 2x + 2 $$\n",
    "\n",
    "where $ p = 17 $\n",
    "\n",
    "and our generator point is $ G = (5,1) $\n",
    "\n",
    "We then compute the cyclic group by continuinally multipling $G$ until we get to $0,0$ (I think?)\n",
    "\n",
    "That leaves our $ n = 19 $ -- values will repeat after $19G$ such that $20G = G$ (hence cyclic group)\n",
    "\n",
    "You can then pick random numbers for the private keys, generate the public keys, etc. -- I think these private keys need to be under $n$ but I could be wrong."
   ]
  },
  {
   "cell_type": "markdown",
   "id": "0bb37120",
   "metadata": {},
   "source": [
    "# Different Working Example Using the Ed25519 Equation\n",
    "\n",
    "$$\n",
    "E: y^2 \\equiv x^3 + 486662x^2 + x\n",
    "$$\n",
    "\n",
    "$ n = 2^{252} + 27742317777372353535851937790883648493 $\n",
    "\n",
    "and \n",
    "\n",
    "$ p = 2^{255} - 19 $\n",
    "\n",
    "\n",
    "What would be a good generator point?"
   ]
  },
  {
   "cell_type": "code",
   "execution_count": 83,
   "id": "0841334d",
   "metadata": {},
   "outputs": [
    {
     "data": {
      "text/plain": [
       "57896044618658097711785492504343953926634992332820282019728792003956564819949"
      ]
     },
     "execution_count": 83,
     "metadata": {},
     "output_type": "execute_result"
    }
   ],
   "source": [
    "prime"
   ]
  },
  {
   "cell_type": "code",
   "execution_count": 119,
   "id": "119b0270",
   "metadata": {},
   "outputs": [
    {
     "name": "stdout",
     "output_type": "stream",
     "text": [
      "(6, 3)\n"
     ]
    },
    {
     "ename": "KeyboardInterrupt",
     "evalue": "",
     "output_type": "error",
     "traceback": [
      "\u001b[0;31m---------------------------------------------------------------------------\u001b[0m",
      "\u001b[0;31mKeyboardInterrupt\u001b[0m                         Traceback (most recent call last)",
      "\u001b[0;32m/tmp/ipykernel_9079/1884262190.py\u001b[0m in \u001b[0;36m<module>\u001b[0;34m\u001b[0m\n\u001b[0;32m----> 1\u001b[0;31m \u001b[0melliptic_multiply\u001b[0m\u001b[0;34m(\u001b[0m\u001b[0;36m2\u001b[0m\u001b[0;34m,\u001b[0m \u001b[0;34m(\u001b[0m\u001b[0;36m6\u001b[0m\u001b[0;34m,\u001b[0m\u001b[0;36m3\u001b[0m\u001b[0;34m)\u001b[0m\u001b[0;34m)\u001b[0m\u001b[0;34m\u001b[0m\u001b[0;34m\u001b[0m\u001b[0m\n\u001b[0m",
      "\u001b[0;32m/tmp/ipykernel_9079/1896043407.py\u001b[0m in \u001b[0;36melliptic_multiply\u001b[0;34m(a, G)\u001b[0m\n\u001b[1;32m     76\u001b[0m     \u001b[0mprint\u001b[0m\u001b[0;34m(\u001b[0m\u001b[0mG\u001b[0m\u001b[0;34m)\u001b[0m\u001b[0;34m\u001b[0m\u001b[0;34m\u001b[0m\u001b[0m\n\u001b[1;32m     77\u001b[0m     \u001b[0;32mfor\u001b[0m \u001b[0mi\u001b[0m \u001b[0;32min\u001b[0m \u001b[0mrange\u001b[0m\u001b[0;34m(\u001b[0m\u001b[0ma\u001b[0m\u001b[0;34m-\u001b[0m\u001b[0;36m1\u001b[0m\u001b[0;34m)\u001b[0m\u001b[0;34m:\u001b[0m\u001b[0;34m\u001b[0m\u001b[0;34m\u001b[0m\u001b[0m\n\u001b[0;32m---> 78\u001b[0;31m         \u001b[0mG\u001b[0m \u001b[0;34m=\u001b[0m \u001b[0melliptic_add\u001b[0m\u001b[0;34m(\u001b[0m\u001b[0mG\u001b[0m\u001b[0;34m,\u001b[0m \u001b[0mG\u001b[0m\u001b[0;34m)\u001b[0m\u001b[0;34m\u001b[0m\u001b[0;34m\u001b[0m\u001b[0m\n\u001b[0m\u001b[1;32m     79\u001b[0m     \u001b[0;32mreturn\u001b[0m \u001b[0mG\u001b[0m\u001b[0;34m\u001b[0m\u001b[0;34m\u001b[0m\u001b[0m\n\u001b[1;32m     80\u001b[0m \u001b[0;34m\u001b[0m\u001b[0m\n",
      "\u001b[0;32m/tmp/ipykernel_9079/1896043407.py\u001b[0m in \u001b[0;36melliptic_add\u001b[0;34m(P, Q, a, prime)\u001b[0m\n\u001b[1;32m     46\u001b[0m         \u001b[0ms_num\u001b[0m \u001b[0;34m=\u001b[0m \u001b[0;36m3\u001b[0m \u001b[0;34m*\u001b[0m \u001b[0;34m(\u001b[0m\u001b[0mx_p\u001b[0m\u001b[0;34m**\u001b[0m\u001b[0;36m2\u001b[0m\u001b[0;34m)\u001b[0m \u001b[0;34m+\u001b[0m \u001b[0ma\u001b[0m\u001b[0;34m\u001b[0m\u001b[0;34m\u001b[0m\u001b[0m\n\u001b[1;32m     47\u001b[0m         \u001b[0ms_denom\u001b[0m \u001b[0;34m=\u001b[0m \u001b[0;36m2\u001b[0m \u001b[0;34m*\u001b[0m \u001b[0my_p\u001b[0m\u001b[0;34m\u001b[0m\u001b[0;34m\u001b[0m\u001b[0m\n\u001b[0;32m---> 48\u001b[0;31m         \u001b[0ms\u001b[0m \u001b[0;34m=\u001b[0m \u001b[0;34m(\u001b[0m\u001b[0ms_num\u001b[0m \u001b[0;34m%\u001b[0m \u001b[0mprime\u001b[0m\u001b[0;34m)\u001b[0m \u001b[0;34m*\u001b[0m \u001b[0mmultiplicative_inverse\u001b[0m\u001b[0;34m(\u001b[0m\u001b[0ms_denom\u001b[0m\u001b[0;34m,\u001b[0m \u001b[0mprime\u001b[0m\u001b[0;34m)\u001b[0m\u001b[0;34m\u001b[0m\u001b[0;34m\u001b[0m\u001b[0m\n\u001b[0m\u001b[1;32m     49\u001b[0m         \u001b[0mx_r\u001b[0m \u001b[0;34m=\u001b[0m \u001b[0;34m(\u001b[0m\u001b[0ms\u001b[0m\u001b[0;34m**\u001b[0m\u001b[0;36m2\u001b[0m\u001b[0;34m)\u001b[0m \u001b[0;34m-\u001b[0m \u001b[0;34m(\u001b[0m\u001b[0;36m2\u001b[0m \u001b[0;34m*\u001b[0m \u001b[0mx_p\u001b[0m\u001b[0;34m)\u001b[0m\u001b[0;34m\u001b[0m\u001b[0;34m\u001b[0m\u001b[0m\n\u001b[1;32m     50\u001b[0m         \u001b[0my_r\u001b[0m \u001b[0;34m=\u001b[0m \u001b[0;34m(\u001b[0m\u001b[0ms\u001b[0m\u001b[0;34m*\u001b[0m\u001b[0;34m(\u001b[0m\u001b[0mx_p\u001b[0m \u001b[0;34m-\u001b[0m \u001b[0mx_r\u001b[0m\u001b[0;34m)\u001b[0m\u001b[0;34m)\u001b[0m \u001b[0;34m-\u001b[0m \u001b[0my_p\u001b[0m\u001b[0;34m\u001b[0m\u001b[0;34m\u001b[0m\u001b[0m\n",
      "\u001b[0;32m/tmp/ipykernel_9079/811729883.py\u001b[0m in \u001b[0;36mmultiplicative_inverse\u001b[0;34m(x, modulo)\u001b[0m\n\u001b[1;32m     20\u001b[0m     \u001b[0mleft_hand_mult\u001b[0m \u001b[0;34m=\u001b[0m \u001b[0mx\u001b[0m \u001b[0;34m*\u001b[0m \u001b[0ma\u001b[0m\u001b[0;34m\u001b[0m\u001b[0;34m\u001b[0m\u001b[0m\n\u001b[1;32m     21\u001b[0m     \u001b[0mright_hand_mod\u001b[0m \u001b[0;34m=\u001b[0m \u001b[0;36m1\u001b[0m \u001b[0;34m%\u001b[0m \u001b[0mmodulo\u001b[0m\u001b[0;34m\u001b[0m\u001b[0;34m\u001b[0m\u001b[0m\n\u001b[0;32m---> 22\u001b[0;31m     \u001b[0;32mwhile\u001b[0m \u001b[0;34m(\u001b[0m\u001b[0mleft_hand_mult\u001b[0m \u001b[0;34m%\u001b[0m \u001b[0mmodulo\u001b[0m\u001b[0;34m)\u001b[0m \u001b[0;34m!=\u001b[0m \u001b[0mright_hand_mod\u001b[0m\u001b[0;34m:\u001b[0m\u001b[0;34m\u001b[0m\u001b[0;34m\u001b[0m\u001b[0m\n\u001b[0m\u001b[1;32m     23\u001b[0m         \u001b[0ma\u001b[0m \u001b[0;34m+=\u001b[0m \u001b[0;36m1\u001b[0m\u001b[0;34m\u001b[0m\u001b[0;34m\u001b[0m\u001b[0m\n\u001b[1;32m     24\u001b[0m         \u001b[0mleft_hand_mult\u001b[0m \u001b[0;34m=\u001b[0m \u001b[0mx\u001b[0m \u001b[0;34m*\u001b[0m \u001b[0ma\u001b[0m\u001b[0;34m\u001b[0m\u001b[0;34m\u001b[0m\u001b[0m\n",
      "\u001b[0;31mKeyboardInterrupt\u001b[0m: "
     ]
    }
   ],
   "source": [
    "elliptic_multiply(2, (6,3))"
   ]
  },
  {
   "cell_type": "code",
   "execution_count": 166,
   "id": "1daa5dfa",
   "metadata": {
    "scrolled": false
   },
   "outputs": [],
   "source": [
    "from typing import Tuple\n",
    "import random\n",
    "\n",
    "def multiplicative_inverse(x: int, modulo: int) -> int:\n",
    "    '''\n",
    "    Generate the multiplicative inverse using the extended\n",
    "    eucliean algorithm -- for modulo divisions\n",
    "    \n",
    "    Parameters x & modulo come from => x % modulo\n",
    "    \n",
    "    >>> multiplicative_inverse(3, 17)\n",
    "    6\n",
    "    >>> multiplicative_inverse(2, 17)\n",
    "    9\n",
    "    '''\n",
    "    a = 1\n",
    "    left_hand_mult = x * a\n",
    "    right_hand_mod = 1 % modulo\n",
    "    while (left_hand_mult % modulo) != right_hand_mod:\n",
    "        a += 1\n",
    "        left_hand_mult = x * a\n",
    "    return a\n",
    "\n",
    "def ed25519(x: int, prime: int = ((2**255) - 19)) -> int:\n",
    "    '''\n",
    "    Returns the squared y value in an ed25519 equation:\n",
    "    \n",
    "    y^2 = x^3 + 486662x^2 + x\n",
    "    \n",
    "    where a = 486662 and b = 1\n",
    "    \n",
    "    :param x: value to pass to the curve\n",
    "    :param prime: prime value to use for the modulo operation, \n",
    "        defaults to (2**255) - 19\n",
    "    \n",
    "    :returns: y^2 in the above equation\n",
    "    \n",
    "    >>> ed25519(5)\n",
    "    12166680\n",
    "    '''\n",
    "    return ((x**3) + (486662 * (x**2)) + x) % prime\n",
    "\n",
    "def elliptic_add(P: Tuple[int, int], \n",
    "                 Q: Tuple[int, int],\n",
    "                 a: int = 486662,\n",
    "                 prime: int = ((2**255) - 19)) -> Tuple[int, int]:\n",
    "    '''\n",
    "    Given two points P & Q, return the third point R using \n",
    "    elliptic addition. Includes exceptions for point doubling\n",
    "    (P == Q) and infinity points (P & Q share the same x)\n",
    "    \n",
    "    :param P: point P\n",
    "    :param Q: point Q\n",
    "    :param a: a parameter in the elliptic curve, defaults to 286662\n",
    "        for the ed25519 curve\n",
    "    :param prime: the prime number for modulo operations, defaults\n",
    "        to (2**255) - 19 from the ed25519 curve\n",
    "    \n",
    "    :returns: point P + Q\n",
    "    \n",
    "    >>> elliptic_add(P=(5,1), G=(5,1), a=2, prime=_prime)\n",
    "    (6, 3)\n",
    "    \n",
    "    >>> elliptic_add(P=(7,6), G=(5,1), a=2, prime=_prime)\n",
    "    (7, 11)\n",
    "    '''\n",
    "    x_p, y_p = P\n",
    "    x_q, y_q = Q    \n",
    "    \n",
    "    # point doubling\n",
    "    if P == Q:\n",
    "        s_num = 3 * (x_p**2) + a\n",
    "        s_denom = 2 * y_p\n",
    "        s = (s_num % prime) * multiplicative_inverse(s_denom, prime) \n",
    "        x_r = (s**2) - (2 * x_p)\n",
    "        y_r = (s*(x_p - x_r)) - y_p\n",
    "    \n",
    "    # adding vertical points -- infinite number allowed(?)\n",
    "    elif x_p == x_q:\n",
    "        return (float('inf'), float('inf'))\n",
    "    \n",
    "    # standard addition\n",
    "    else:\n",
    "        s_num = (y_p - y_q)\n",
    "        s_denom = (x_p - x_q)\n",
    "        s = (s_num % prime) * multiplicative_inverse(s_denom, prime)\n",
    "        x_r = (s**2) - (x_p + x_q)\n",
    "        y_r = ( s * (x_p - x_r) ) - y_p\n",
    "    \n",
    "    return (int(x_r % prime), int(y_r % prime))\n",
    "    \n",
    "\n",
    "def elliptic_multiply(x: int, \n",
    "                      G: Tuple[int, int],\n",
    "                      a: int = 486662,\n",
    "                      prime: int = ((2**255) - 19)) -> Tuple[int, int]:\n",
    "    '''\n",
    "    Multiply a point G by a integer scalar a using elliptic\n",
    "    arithmetic. \n",
    "    \n",
    "    :param x: scalar value\n",
    "    :param G: the point value\n",
    "    :param a: equivalent parameter from the curve, defaults to 486662 \n",
    "        from the ed25519 curve\n",
    "    :param prime: prime number to use, defaults to (2**255) - 19 \n",
    "        from the ed25519 curve\n",
    "    \n",
    "    :returns: new point\n",
    "    \n",
    "    >>> elliptic_multiply(x=10, G=(5,1), a=2, prime=17)\n",
    "    (7, 11)\n",
    "    \n",
    "    >>> elliptic_multiply(x=19, G=(5,1), a=2, prime=_prime)\n",
    "    (inf, inf)\n",
    "    \n",
    "    >>> elliptic_multiply(x=21, G=(5,1), a=2, prime=_prime)\n",
    "    (6, 3)\n",
    "    '''\n",
    "    running_G = G\n",
    "    for i in range(x-1):\n",
    "        if running_G == (float('inf'), float('inf')):\n",
    "            running_G = G\n",
    "            continue \n",
    "        running_G = elliptic_add(running_G, G, a, prime)\n",
    "    return running_G"
   ]
  },
  {
   "cell_type": "code",
   "execution_count": 175,
   "id": "a30713db",
   "metadata": {},
   "outputs": [
    {
     "name": "stdout",
     "output_type": "stream",
     "text": [
      "9 (7, 6)\n",
      "3 (10, 6)\n",
      "Same Cipher? True => (13, 7)\n"
     ]
    }
   ],
   "source": [
    "# Example from the video\n",
    "_prime = 17\n",
    "a, b= 2, 2;   # curve parameters\n",
    "_curve = lambda x: int(((x**3) + (a*x) + b) % _prime)\n",
    "norder = 19  # could be computed by trying to multiply until we get infinity\n",
    "G = (5, 1)\n",
    "\n",
    "bob_private_key = 9\n",
    "bob_public_key = elliptic_multiply(bob_private_key, G, a, _prime)\n",
    "alice_private_key = 3\n",
    "alice_public_key = elliptic_multiply(alice_private_key, G, a, _prime)\n",
    "\n",
    "print(bob_private_key, bob_public_key)\n",
    "print(alice_private_key, alice_public_key)\n",
    "\n",
    "alice_cipher = elliptic_multiply(alice_private_key, bob_public_key, a, _prime)\n",
    "bob_cipher = elliptic_multiply(bob_private_key, alice_public_key, a, _prime)\n",
    "\n",
    "print(\"Same Cipher? %r => %s\" % (alice_cipher == bob_cipher, alice_cipher))"
   ]
  },
  {
   "cell_type": "code",
   "execution_count": 221,
   "id": "a8e1850d",
   "metadata": {},
   "outputs": [
    {
     "data": {
      "text/plain": [
       "'0b010011010111100100100000011100110110010101100011011100100110010101110100001000000110110101100101011100110111001101100001011001110110010100100000011010010110111000100000011000100110100101101110011000010111001001111001'"
      ]
     },
     "execution_count": 221,
     "metadata": {},
     "output_type": "execute_result"
    }
   ],
   "source": [
    "\"0b%s\" % make_binary(\"My secret message in binary\")"
   ]
  },
  {
   "cell_type": "code",
   "execution_count": 226,
   "id": "159ef362",
   "metadata": {},
   "outputs": [
    {
     "ename": "TypeError",
     "evalue": "'str' object cannot be interpreted as an integer",
     "output_type": "error",
     "traceback": [
      "\u001b[0;31m---------------------------------------------------------------------------\u001b[0m",
      "\u001b[0;31mTypeError\u001b[0m                                 Traceback (most recent call last)",
      "\u001b[0;32m/tmp/ipykernel_9079/2380957802.py\u001b[0m in \u001b[0;36m<module>\u001b[0;34m\u001b[0m\n\u001b[1;32m      3\u001b[0m     \u001b[0;32mreturn\u001b[0m \u001b[0;34m\"\"\u001b[0m\u001b[0;34m.\u001b[0m\u001b[0mjoin\u001b[0m\u001b[0;34m(\u001b[0m\u001b[0;34m[\u001b[0m\u001b[0mformat\u001b[0m\u001b[0;34m(\u001b[0m\u001b[0mord\u001b[0m\u001b[0;34m(\u001b[0m\u001b[0mc\u001b[0m\u001b[0;34m)\u001b[0m\u001b[0;34m,\u001b[0m \u001b[0;34m'08b'\u001b[0m\u001b[0;34m)\u001b[0m \u001b[0;32mfor\u001b[0m \u001b[0mc\u001b[0m \u001b[0;32min\u001b[0m \u001b[0ms\u001b[0m\u001b[0;34m]\u001b[0m\u001b[0;34m)\u001b[0m\u001b[0;34m\u001b[0m\u001b[0;34m\u001b[0m\u001b[0m\n\u001b[1;32m      4\u001b[0m \u001b[0;34m\u001b[0m\u001b[0m\n\u001b[0;32m----> 5\u001b[0;31m \u001b[0mmessage\u001b[0m \u001b[0;34m=\u001b[0m \u001b[0mbin\u001b[0m\u001b[0;34m(\u001b[0m\u001b[0;34m\"0b%s\"\u001b[0m \u001b[0;34m%\u001b[0m \u001b[0mmake_binary\u001b[0m\u001b[0;34m(\u001b[0m\u001b[0;34m\"My secret message in binary\"\u001b[0m\u001b[0;34m)\u001b[0m\u001b[0;34m)\u001b[0m\u001b[0;34m\u001b[0m\u001b[0;34m\u001b[0m\u001b[0m\n\u001b[0m\u001b[1;32m      6\u001b[0m \u001b[0mkey\u001b[0m \u001b[0;34m=\u001b[0m \u001b[0mbin\u001b[0m\u001b[0;34m(\u001b[0m\u001b[0;36m0b100\u001b[0m\u001b[0;34m)\u001b[0m\u001b[0;34m\u001b[0m\u001b[0;34m\u001b[0m\u001b[0m\n\u001b[1;32m      7\u001b[0m \u001b[0mencrypted\u001b[0m \u001b[0;34m=\u001b[0m \u001b[0mmessage\u001b[0m \u001b[0;34m^\u001b[0m \u001b[0mkey\u001b[0m\u001b[0;34m\u001b[0m\u001b[0;34m\u001b[0m\u001b[0m\n",
      "\u001b[0;31mTypeError\u001b[0m: 'str' object cannot be interpreted as an integer"
     ]
    }
   ],
   "source": [
    "# you'd probably join these two for the cipher\n",
    "def make_binary(s):\n",
    "    return \"\".join([format(ord(c), '08b') for c in s])\n",
    "\n",
    "message = bin(\"0b%s\" % make_binary(\"My secret message in binary\"))\n",
    "key = bin(0b100)\n",
    "encrypted = message ^ key\n",
    "print(message, encrypted)"
   ]
  },
  {
   "cell_type": "markdown",
   "id": "10ed5eeb",
   "metadata": {},
   "source": [
    "Sources\n",
    "  \n",
    "  * [This YT video](https://www.youtube.com/watch?v=F3zzNa42-tQ)\n",
    "  * [Math Examples](http://www.herongyang.com/EC-Cryptography/Algebraic-Point-Addition-Example.html) -- notably includes details on how R can be verified as belonging to Q & P\n",
    "  * [Finding the multiplicative inverse of modulo operations](https://www.youtube.com/watch?v=Gu7iKt2SZYc)"
   ]
  }
 ],
 "metadata": {
  "kernelspec": {
   "display_name": "Python 3",
   "language": "python",
   "name": "python3"
  },
  "language_info": {
   "codemirror_mode": {
    "name": "ipython",
    "version": 3
   },
   "file_extension": ".py",
   "mimetype": "text/x-python",
   "name": "python",
   "nbconvert_exporter": "python",
   "pygments_lexer": "ipython3",
   "version": "3.8.10"
  }
 },
 "nbformat": 4,
 "nbformat_minor": 5
}
